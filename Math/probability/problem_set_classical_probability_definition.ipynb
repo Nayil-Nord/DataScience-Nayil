{
 "cells": [
  {
   "cell_type": "code",
   "execution_count": null,
   "metadata": {},
   "outputs": [],
   "source": [
    "\"\"\"Collection of problems on the classical definition of probability.\"\"\""
   ]
  },
  {
   "cell_type": "markdown",
   "metadata": {},
   "source": [
    "http://mathprofi.ru/files/sbornik_gotovyh_zadach_na_klassicheskoe_opredelenie_verojatnosti.pdf"
   ]
  },
  {
   "cell_type": "markdown",
   "metadata": {},
   "source": [
    "# Problem 1\n",
    "\n",
    "There are n = 3 books in a lottery. There are N = 50 tickets in the urn. The first person to approach the urn takes out a ticket. Find the probability that the ticket will be a winning one.\n",
    "\n",
    "*\"Задача 1. В лотерее разыгрывается n = 3 книги. Всего в урне N = 50 билетов. Первый подошедший к урне вынимает билет. Найти вероятность того, что билет окажется выигрышным.\"*\n",
    "\n",
    "## Solution:\n",
    "\n",
    "Consider the event:\n",
    "A - the first person to come up drew the winning ticket. \n",
    "\n",
    "According to the classical definition of probability:\n",
    "\n",
    "P(A) = n/N = 3/50 = 0.06\n",
    "\n",
    "This is the sought probability."
   ]
  },
  {
   "cell_type": "code",
   "execution_count": 8,
   "metadata": {},
   "outputs": [
    {
     "name": "stdout",
     "output_type": "stream",
     "text": [
      "The probabity of drawing a winning ticket is: 0.06\n",
      "As a percentage: 6.0%\n"
     ]
    }
   ],
   "source": [
    "def calculate_probability(winning_tickets: int, total_tickets: int) -> float:\n",
    "    \"\"\"\n",
    "    Calculate the probability of drawing a winning ticket.\n",
    "\n",
    "    Args:\n",
    "        winning_tickets (int): Number of winning tickets (books).\n",
    "        total_tickets (int): Total number of tickets.\n",
    "\n",
    "    Returns:\n",
    "        float: Probability of drawing a winning ticket.        \n",
    "    \"\"\"\n",
    "    return winning_tickets / total_tickets\n",
    "\n",
    "\n",
    "winning_tickets = 3\n",
    "total_tickets = 50\n",
    "\n",
    "result_problem_1 = calculate_probability(winning_tickets, total_tickets)\n",
    "print(f\"The probabity of drawing a winning ticket is: {result_problem_1}\")\n",
    "print(f\"As a percentage: {result_problem_1 * 100}%\")"
   ]
  },
  {
   "cell_type": "markdown",
   "metadata": {},
   "source": [
    "# Problem 2\n",
    "\n",
    "A secret lock contains 15 disks. Each disk has ten digits from 0 to 9. What is the probability of opening the lock by randomly entering a combination of 15 digits?\n",
    "\n",
    "*\"Задача 2. Секретный замок содержит 15 дисков. Каждый диск имеет десять цифр от 0 до 9. Какова вероятность открыть замок, случайно набрав комбинацию из 15 цифр?\"*\n",
    "\n",
    "## Solution:\n",
    "\n",
    "Let's determine the total number of outcomes:\n",
    "- We can choose a digit for each of the 15 disks in 10 ways (C¹₁₀).\n",
    "- The total number of ways to enter digits on the lock is (C¹₁₀)¹⁵ = 10¹⁵.\n",
    "\n",
    "There is only one correct combination of digits (the number of favorable outcomes).\n",
    "\n",
    "According to the classical definition of probability:\n",
    "\n",
    "p = 1 / 10¹⁵\n",
    "\n",
    "This is the probability of opening the lock by randomly entering a combination of 15 digits.\n",
    "\n",
    "## Answer:\n",
    "\n",
    "1 / 10¹⁵"
   ]
  },
  {
   "cell_type": "code",
   "execution_count": 22,
   "metadata": {},
   "outputs": [
    {
     "name": "stdout",
     "output_type": "stream",
     "text": [
      "Доступные цифры: [0, 1, 2, 3, 4, 5, 6, 7, 8, 9]\n",
      "Количество возможных цифр: 10\n",
      "Вероятность открытия замка: 1e-15\n"
     ]
    }
   ],
   "source": [
    "def example_combinations_problem_2(disks: int, digitals: int, favorable_outcomes: int) -> float:\n",
    "    \"\"\"Вычисляет вероятность открытия замка с помощью случайного ввода комбинации.\"\"\"\n",
    "    \n",
    "    total_combinations = digitals ** disks  #общее количество комбинаций \n",
    "           \n",
    "    return favorable_outcomes / total_combinations # Вероятность\n",
    "\n",
    "disks = 15 # Количество дисков\n",
    "\n",
    "digitals_disk = range(10)   \n",
    "print(\"Доступные цифры:\", list(digitals_disk)) # Выводим доступные цифры\n",
    "\n",
    "digitals = len(digitals_disk)  \n",
    "print(\"Количество возможных цифр:\", digitals) # Количество возможных цифр\n",
    "\n",
    "favorable_outcomes  = 1 # Только одна правильная комбинация\n",
    "\n",
    "result_problem_2 = example_combinations_problem_2(disks, digitals, favorable_outcomes)\n",
    "\n",
    "print(\"Вероятность открытия замка:\", result_problem_2)  # Выводим вероятность"
   ]
  },
  {
   "cell_type": "markdown",
   "metadata": {},
   "source": [
    "# Problem 3\n",
    "\n",
    "Eight dice are rolled. Find the probability that all the faces shown will have the same number of dots.\n",
    "\n",
    "*Задача 3. Брошено 8 игральных костей. Найти вероятность того, что на всех выпавших гранях появится одинаковое число очков.*\n",
    "\n",
    "## Solution:\n",
    "\n",
    "Let's find the total number of outcomes:\n",
    "- There are 6⁸ ways in which numbers can appear on 8 dice (C¹₆)⁸.\n",
    "\n",
    "Favorable outcomes:\n",
    "- There are 6 ways to have the same number on all dice faces.\n",
    "\n",
    "According to the classical definition of probability:\n",
    "\n",
    "p = 6 / 6⁸ = 6 / 1,679,616 ≈ 0.000004\n",
    "\n",
    "This is the probability that all the faces shown will have the same number of dots.\n",
    "\n",
    "## Answer:\n",
    "\n",
    "0.000004 (approximately)"
   ]
  },
  {
   "cell_type": "code",
   "execution_count": 28,
   "metadata": {},
   "outputs": [
    {
     "name": "stdout",
     "output_type": "stream",
     "text": [
      "Вероятность того, что все 8 костей показывают одинаковое число: 3.5722450845907635e-06\n"
     ]
    }
   ],
   "source": [
    "def example_combinations_problem_3(num_dice: int, num_faces: int, favorable_outcomes: int)-> float:\n",
    "    \"\"\"\"Вычисляет вероятность того, что все выпавшие грани на игральных костях одинаковы\"\"\"    \n",
    "    \n",
    "    total_outcomes = num_faces ** num_dice   # Общее количество исходов\n",
    "    probabity_problem_3_def = favorable_outcomes / total_outcomes      \n",
    "    \n",
    "    return probabity_problem_3_def\n",
    "\n",
    "\n",
    "# Параметры задачи\n",
    "num_dice = 8    # Количество игральных костей\n",
    "num_faces = 6   # Количество граней на каждой кости\n",
    "favorable_outcomes = 6  # Количество благоприятных исходов \n",
    "\n",
    "# Вычисляем вероятность\n",
    "probabity_problem_3 = example_combinations_problem_3(num_dice, num_faces, favorable_outcomes)\n",
    "\n",
    "# Печатаем результат\n",
    "print(f\"Вероятность того, что все 8 костей показывают одинаковое число: {probabity_problem_3}\")\n"
   ]
  },
  {
   "cell_type": "markdown",
   "metadata": {},
   "source": [
    "# Problem 4\n",
    "\n",
    "Determine the probability that the series of a randomly chosen bond does not contain identical digits if the series number can be any five-digit number starting from 00001.\n",
    "\n",
    "## Solution:\n",
    "\n",
    "Let's find the total number of outcomes:\n",
    "There are 99,999 bonds with different five-digit numbers (excluding the number 00000).\n",
    "\n",
    "Now, let's find the number of favorable outcomes:\n",
    "A¹⁰₅ = 10 * 9 * 8 * 7 * 6 = 30,240 numbers with different digits.\n",
    "\n",
    "According to the classical definition of probability:\n",
    "\n",
    "p = 30,240 / 99,999 ≈ 0.302\n",
    "\n",
    "This is the probability that the series of a randomly chosen bond does not contain identical digits.\n",
    "\n",
    "## Answer:\n",
    "\n",
    "0.302 (approximately)"
   ]
  },
  {
   "cell_type": "code",
   "execution_count": null,
   "metadata": {},
   "outputs": [],
   "source": []
  },
  {
   "cell_type": "markdown",
   "metadata": {},
   "source": [
    "# Problem 5\n",
    "\n",
    "What is the probability of guessing a three-digit code number if it consists of:\n",
    "a) even digits, with no repetition of digits in the number;\n",
    "b) digits greater than 5, where digits in the number can be repeated?\n",
    "\n",
    "## Solution:\n",
    "\n",
    "### a) Even digits, no repetition\n",
    "\n",
    "Total number of outcomes:\n",
    "There are five even digits (0, 2, 4, 6, 8)\n",
    "A⁵₃ = 5 * 4 * 3 = 60 ways to choose a three-digit number consisting of 5 even digits without repetition.\n",
    "\n",
    "According to the classical definition of probability:\n",
    "p = 1 / 60 ≈ 0.0167\n",
    "\n",
    "This is the probability of guessing the three-digit code number.\n",
    "\n",
    "### b) Digits greater than 5, with possible repetition\n",
    "\n",
    "Total number of outcomes:\n",
    "There are four suitable digits (6, 7, 8, 9)\n",
    "A⁴₃(rep) = 4³ = 64 ways to choose a three-digit number consisting of digits greater than 5, with possible repetition.\n",
    "\n",
    "According to the classical definition of probability:\n",
    "p = 1 / 64 ≈ 0.0156\n",
    "\n",
    "This is the probability of guessing the three-digit code number.\n",
    "\n",
    "## Answer:\n",
    "\n",
    "a) 1/60 ≈ 0.0167\n",
    "b) 1/64 ≈ 0.0156"
   ]
  },
  {
   "cell_type": "code",
   "execution_count": null,
   "metadata": {},
   "outputs": [],
   "source": []
  }
 ],
 "metadata": {
  "kernelspec": {
   "display_name": "base",
   "language": "python",
   "name": "python3"
  },
  "language_info": {
   "codemirror_mode": {
    "name": "ipython",
    "version": 3
   },
   "file_extension": ".py",
   "mimetype": "text/x-python",
   "name": "python",
   "nbconvert_exporter": "python",
   "pygments_lexer": "ipython3",
   "version": "3.12.4"
  }
 },
 "nbformat": 4,
 "nbformat_minor": 2
}
