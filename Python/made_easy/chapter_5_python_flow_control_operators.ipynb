{
 "cells": [
  {
   "cell_type": "code",
   "execution_count": null,
   "metadata": {},
   "outputs": [],
   "source": [
    "\"\"\"Глава 5 Операторы управления потоком.\"\"\""
   ]
  },
  {
   "cell_type": "markdown",
   "metadata": {},
   "source": [
    "# Глава 5 Операторы управления потоком \n",
    "\n",
    "## 5.1 Управление потоком\n",
    "- Обычно код выполняется последовательно сверху вниз\n",
    "- Операторы управления потоком позволяют изменять порядок выполнения кода в зависимости от условий\n",
    "\n",
    "## 5.2 Операторы if\n",
    "### 5.2.1 Простой if\n",
    "- Используется для проверки условия \n",
    "- Синтаксис: `if условие: код блока if`\n",
    "- Блок кода должен иметь отступ\n",
    "- Пример использования: скидки в магазине при сумме > 50000\n",
    "\n",
    "### 5.2.2 Оператор if-else \n",
    "- Позволяет выполнить альтернативный код если условие ложно\n",
    "- Синтаксис: \n",
    "```python\n",
    "# if условие:\n",
    "# код блока if\n",
    "# else:\n",
    "# код блока else\n",
    "```\n",
    "- Блок else необязателен\n",
    "\n",
    "### 5.2.3 Оператор if-elif-else\n",
    "- elif - комбинация else и if\n",
    "- Может быть множество elif блоков\n",
    "- else необязателен\n",
    "- Позволяет проверить несколько условий последовательно\n",
    "\n",
    "## 5.3 Цикл for\n",
    "- Используется для итерации по элементам последовательности\n",
    "- Синтаксис: `for переменная in последовательность: блок кода`\n",
    "- Может иметь блок else, который выполняется после завершения цикла\n",
    "\n",
    "## 5.4 Функция range()\n",
    "- Генерирует последовательность чисел\n",
    "- Может задавать начало, конец и шаг\n",
    "- Возвращает итерируемый объект\n",
    "- Часто используется с циклом for\n",
    "\n",
    "## 5.5 Цикл while\n",
    "- Выполняет код, пока условие истинно\n",
    "- Используется когда неизвестно количество итераций\n",
    "- Важно обновлять счетчик в теле цикла\n",
    "- Может иметь блок else\n",
    "\n",
    "## 5.6 Операторы break и continue\n",
    "### 5.6.1 Break\n",
    "- Прерывает выполнение цикла\n",
    "- При использовании break блок else не выполняется\n",
    "\n",
    "### 5.6.2 Continue\n",
    "- Пропускает оставшуюся часть текущей итерации\n",
    "- Переходит к следующей итерации цикла\n",
    "\n",
    "## 5.7 Оператор pass\n",
    "- Ничего не делает\n",
    "- Используется как заполнитель, когда требуется синтаксически\n",
    "- Часто применяется при создании пустых классов или функций"
   ]
  },
  {
   "cell_type": "markdown",
   "metadata": {},
   "source": [
    "# 5.9 Упражнения\n",
    "\n",
    "## 5.9.1 Ответьте на вопросы\n",
    "\n",
    "### 1. Каков порядок выполнения выражений в программе Python? Как его изменить?\n",
    "- По умолчанию выражения выполняются последовательно сверху вниз\n",
    "- Изменить порядок можно с помощью операторов управления потоком (if, for, while, break, continue)\n",
    "\n",
    "### 2. Что делают приведенные фрагменты кода?\n",
    "\n",
    "а) ```python\n",
    "a = 50\n",
    "if a >= 100:\n",
    "    print(\"Value of a is {}\".format(a))\n",
    "```\n",
    "- Ничего не выведет, так как условие ложно (50 не >= 100)\n",
    "\n",
    "б) ```python\n",
    "a = 90\n",
    "if a <= 100:\n",
    "    print(\"Value of a is {}\".format(a))\n",
    "```\n",
    "- Выведет \"Value of a is 90\", так как 90 <= 100\n",
    "\n",
    "в) ```python\n",
    "x = 50\n",
    "if x >= 10:\n",
    "    print(\"Value of x is {}\".format(x))\n",
    "else:\n",
    "    print(\"Value of x is less than 10\")\n",
    "```\n",
    "- Выведет \"Value of x is 50\", так как 50 >= 10\n",
    "\n",
    "г) ```python\n",
    "x = 5\n",
    "if x >= 10:\n",
    "    print(\"Value of x is {}\".format(x))\n",
    "else:\n",
    "    print(\"Value of x is less than 10\")\n",
    "```\n",
    "- Выведет \"Value of x is less than 10\", так как 5 < 10\n",
    "\n",
    "д) ```python\n",
    "x = 0\n",
    "while x < 5:\n",
    "    print(x)\n",
    "    x += 1\n",
    "```\n",
    "- Выведет числа от 0 до 4\n",
    "\n",
    "е) ```python\n",
    "for i in range(5, 25, 5):\n",
    "    print(i)\n",
    "```\n",
    "- Выведет числа 5, 10, 15, 20\n",
    "\n",
    "### 3. Есть ли ошибки в приведенных фрагментах? Если да, то какие.\n"
   ]
  },
  {
   "cell_type": "markdown",
   "metadata": {},
   "source": [
    "а) ```python\n",
    "a = 12\n",
    "if a == 10\n",
    "print(\"a is equal to 10\")\n",
    "```\n"
   ]
  },
  {
   "cell_type": "code",
   "execution_count": 7,
   "metadata": {},
   "outputs": [],
   "source": [
    "variable_a = 12\n",
    "if variable_a == 10:\n",
    "    print(\"variable_a is equal to 10\")"
   ]
  },
  {
   "cell_type": "markdown",
   "metadata": {},
   "source": [
    "б) ```python\n",
    "a = 90, b = 15\n",
    "if a <= 100:\n",
    "    print(\"Value of a is less than 100\")\n",
    "```\n",
    "- Ошибка: неправильное присваивание нескольких переменных"
   ]
  },
  {
   "cell_type": "code",
   "execution_count": 13,
   "metadata": {},
   "outputs": [
    {
     "name": "stdout",
     "output_type": "stream",
     "text": [
      "Value of var_a is less than 100\n"
     ]
    }
   ],
   "source": [
    "var_a, var_b = 90, 15\n",
    "if var_a <= 100:\n",
    "    print(\"Value of var_a is less than 100\")"
   ]
  },
  {
   "cell_type": "markdown",
   "metadata": {},
   "source": [
    "в) ```python\n",
    "x = 22\n",
    "if x >= 10:\n",
    "    print(\"x is bigger than 10\")\n",
    "else\n",
    "    print(\"x is less than 10\")\n",
    "```\n",
    "- Ошибка: отсутствует двоеточие после else"
   ]
  },
  {
   "cell_type": "code",
   "execution_count": 11,
   "metadata": {},
   "outputs": [
    {
     "name": "stdout",
     "output_type": "stream",
     "text": [
      "'var_x' is bigger than 10\n"
     ]
    }
   ],
   "source": [
    "var_x = 22\n",
    "if var_x >= 10:\n",
    "    print(\"'var_x' is bigger than 10\")\n",
    "else:\n",
    "    print(\"'var_x' is less than 10\")"
   ]
  },
  {
   "cell_type": "markdown",
   "metadata": {},
   "source": [
    "г) ```python\n",
    "x = 5\n",
    "if x >= 10:\n",
    "    print(\"Value of x is {}\".format(x))\n",
    "else x < 10:\n",
    "    print(\"Value of x is less than 10\")\n",
    "```\n",
    "- Ошибка: else не должен иметь условия"
   ]
  },
  {
   "cell_type": "code",
   "execution_count": null,
   "metadata": {},
   "outputs": [
    {
     "name": "stdout",
     "output_type": "stream",
     "text": [
      "Value of 'variable_x' is less than 10\n"
     ]
    }
   ],
   "source": [
    "variable_x = 5\n",
    "if variable_x >= 10:\n",
    "    print(f\"Value of 'variable_x' is {variable_x}!\")\n",
    "else:\n",
    "    print(\"Value of 'variable_x' is less than 10\")"
   ]
  },
  {
   "cell_type": "markdown",
   "metadata": {},
   "source": [
    "д) ```python\n",
    "x = 5\n",
    "if x > 10:\n",
    "    print(\"Value of x is more than 10\")\n",
    "else:\n",
    "    print(\"Value of x is less than 10\")\n",
    "elif x == 10:\n",
    "    print(\"Value of x is equal to 10\")\n",
    "```\n",
    "- Ошибка: elif не может идти после else"
   ]
  },
  {
   "cell_type": "code",
   "execution_count": 12,
   "metadata": {},
   "outputs": [
    {
     "name": "stdout",
     "output_type": "stream",
     "text": [
      "Value of 'variab_x' is less than 10\n"
     ]
    }
   ],
   "source": [
    "variab_x = 5\n",
    "if variab_x > 10:\n",
    "    print(\"Value of 'variab_x' is more than 10\")\n",
    "elif variab_x == 10:\n",
    "    print(\"Value of 'variab_x' is equal to 10\")\n",
    "else:\n",
    "    print(\"Value of 'variab_x' is less than 10\")"
   ]
  },
  {
   "cell_type": "markdown",
   "metadata": {},
   "source": [
    "е) ```python\n",
    "x = 0\n",
    "while x < 5\n",
    "print(x) x =+ 1\n",
    "```\n",
    "- Ошибки: отсутствует двоеточие после условия, неправильный отступ, неправильный оператор инкремента"
   ]
  },
  {
   "cell_type": "markdown",
   "metadata": {},
   "source": [
    "## 5.9.2 Правда или ложь\n",
    "\n",
    "1. \"Когда оператор if имеет значение true, он выполняет лишь одну инструкцию в коде.\"\n",
    "- Ложь. Он выполняет весь блок кода с отступом\n",
    "\n",
    "2. \"Блок кода сразу после оператора if - это блок if, который выполняется, когда условие возвращает True.\"\n",
    "- Правда\n",
    "\n",
    "3. \"Оператор else обязательно есть после каждого оператора if.\"\n",
    "- Ложь. else необязателен\n",
    "\n",
    "4. \"Оператор elif представляет собой комбинацию операторов else и if в одной строке.\"\n",
    "- Правда\n",
    "\n",
    "5. \"Оператор else также может использоваться с циклом for.\"\n",
    "- Правда\n",
    "\n",
    "6. \"Объект в теле цикла for должен быть объектом-итератором.\"\n",
    "- Правда\n",
    "\n",
    "7. \"Цикл while выполняет блок кода, пока выполняется условие.\"\n",
    "- Правда\n",
    "\n",
    "8. \"Оператор break прерывает самый внутренний цикл for.\"\n",
    "- Правда\n",
    "\n",
    "9. \"Оператор continue используется для пропуска всех оставшихся итераций цикла.\"\n",
    "- Ложь. Пропускает только текущую итерацию\n",
    "\n",
    "10. \"Оператор pass ничего не делает.\"\n",
    "- Правда"
   ]
  },
  {
   "cell_type": "markdown",
   "metadata": {},
   "source": [
    "# 5.9.3 Практические задания с решениями"
   ]
  },
  {
   "cell_type": "markdown",
   "metadata": {},
   "source": [
    "### 1. Расчет прибыли/убытка трейдера"
   ]
  },
  {
   "cell_type": "code",
   "execution_count": 10,
   "metadata": {},
   "outputs": [
    {
     "name": "stdout",
     "output_type": "stream",
     "text": [
      "Получена прибыль в размере: 1.0\n"
     ]
    }
   ],
   "source": [
    "buy_price = float(input(\"Введите цену покупки: \"))\n",
    "sell_price = float(input(\"Введите цену продажи: \"))\n",
    "\n",
    "profit = sell_price - buy_price\n",
    "\n",
    "if profit > 0:\n",
    "    print(f\"Получена прибыль в размере: {profit}\")\n",
    "else:\n",
    "    print(f\"Получен убыток в размере: {abs(profit)}\")"
   ]
  },
  {
   "cell_type": "markdown",
   "metadata": {},
   "source": [
    "### 2. Проверка високосного года"
   ]
  },
  {
   "cell_type": "code",
   "execution_count": 9,
   "metadata": {},
   "outputs": [
    {
     "name": "stdout",
     "output_type": "stream",
     "text": [
      "66 - не високосный год\n"
     ]
    }
   ],
   "source": [
    "year = int(input(\"Введите год: \"))\n",
    "\n",
    "if (year % 4 == 0 and year % 100 != 0) or (year % 400 == 0):\n",
    "    print(f\"{year} - високосный год\")\n",
    "else:\n",
    "    print(f\"{year} - не високосный год\")"
   ]
  },
  {
   "cell_type": "markdown",
   "metadata": {},
   "source": [
    "### 3. Сравнение опыта работы"
   ]
  },
  {
   "cell_type": "code",
   "execution_count": 8,
   "metadata": {},
   "outputs": [
    {
     "name": "stdout",
     "output_type": "stream",
     "text": [
      "Наибольший опыт: 6.0 лет\n",
      "Наименьший опыт: 5.0 лет\n"
     ]
    }
   ],
   "source": [
    "samir = float(input(\"Опыт работы Самира (лет): \"))\n",
    "pravin = float(input(\"Опыт работы Правина (лет): \"))\n",
    "mohit = float(input(\"Опыт работы Мохита (лет): \"))\n",
    "\n",
    "most_exp = max(samir, pravin, mohit)\n",
    "least_exp = min(samir, pravin, mohit)\n",
    "\n",
    "print(f\"Наибольший опыт: {most_exp} лет\")\n",
    "print(f\"Наименьший опыт: {least_exp} лет\")"
   ]
  },
  {
   "cell_type": "markdown",
   "metadata": {},
   "source": [
    "### 4. Проверка существования треугольника"
   ]
  },
  {
   "cell_type": "code",
   "execution_count": 18,
   "metadata": {},
   "outputs": [
    {
     "name": "stdout",
     "output_type": "stream",
     "text": [
      "Это не треугольник\n"
     ]
    }
   ],
   "source": [
    "angle1 = float(input(\"Введите первый угол: \"))\n",
    "angle2 = float(input(\"Введите второй угол: \"))\n",
    "angle3 = float(input(\"Введите третий угол: \"))\n",
    "\n",
    "is_valid_sum = angle1 + angle2 + angle3 == 180\n",
    "is_valid_angles = angle1 > 0 and angle2 > 0 and angle3 > 0\n",
    "\n",
    "if is_valid_sum and is_valid_angles:\n",
    "    print(\"Это треугольник\")\n",
    "else:\n",
    "    print(\"Это не треугольник\")"
   ]
  },
  {
   "cell_type": "markdown",
   "metadata": {},
   "source": [
    "### 5. Проверка прямоугольного треугольника"
   ]
  },
  {
   "cell_type": "code",
   "execution_count": 17,
   "metadata": {},
   "outputs": [
    {
     "name": "stdout",
     "output_type": "stream",
     "text": [
      "Это не прямоугольный треугольник\n"
     ]
    }
   ],
   "source": [
    "angle1 = float(input(\"Введите первый угол: \"))\n",
    "angle2 = float(input(\"Введите второй угол: \"))\n",
    "angle3 = float(input(\"Введите третий угол: \"))\n",
    "\n",
    "has_right_angle = angle1 == 90 or angle2 == 90 or angle3 == 90\n",
    "is_valid_triangle = angle1 + angle2 + angle3 == 180\n",
    "\n",
    "if has_right_angle and is_valid_triangle:\n",
    "    print(\"Это прямоугольный треугольник\")\n",
    "else:\n",
    "    print(\"Это не прямоугольный треугольник\")"
   ]
  },
  {
   "cell_type": "markdown",
   "metadata": {},
   "source": [
    "### 6. Генерация трехзначных чисел"
   ]
  },
  {
   "cell_type": "code",
   "execution_count": 12,
   "metadata": {},
   "outputs": [
    {
     "name": "stdout",
     "output_type": "stream",
     "text": [
      "123\n",
      "132\n",
      "213\n",
      "231\n",
      "312\n",
      "321\n",
      "Всего чисел: 6\n"
     ]
    }
   ],
   "source": [
    "# Подсчет трехзначных чисел из цифр 1, 2, 3\n",
    "count = 0\n",
    "digits = [1, 2, 3]\n",
    "\n",
    "for first in digits:\n",
    "    for second in digits:\n",
    "        for third in digits:\n",
    "            # Проверяем что все цифры разные\n",
    "            if first != second and second != third and first != third:\n",
    "                print(f\"{first}{second}{third}\")\n",
    "                count += 1\n",
    "\n",
    "print(f\"Всего чисел: {count}\")"
   ]
  },
  {
   "cell_type": "markdown",
   "metadata": {},
   "source": [
    "### 7. Таблица умножения"
   ]
  },
  {
   "cell_type": "code",
   "execution_count": 13,
   "metadata": {},
   "outputs": [
    {
     "name": "stdout",
     "output_type": "stream",
     "text": [
      "3 x 1 = 3\n",
      "3 x 2 = 6\n",
      "3 x 3 = 9\n",
      "3 x 4 = 12\n",
      "3 x 5 = 15\n",
      "3 x 6 = 18\n",
      "3 x 7 = 21\n",
      "3 x 8 = 24\n",
      "3 x 9 = 27\n",
      "3 x 10 = 30\n"
     ]
    }
   ],
   "source": [
    "# Ввод числа для таблицы умножения\n",
    "number = int(input(\"Введите число для таблицы умножения: \"))\n",
    "\n",
    "# Вывод таблицы умножения\n",
    "for multiplier in range(1, 11):\n",
    "    result = number * multiplier\n",
    "    print(f\"{number} x {multiplier} = {result}\")"
   ]
  },
  {
   "cell_type": "markdown",
   "metadata": {},
   "source": [
    "### 8. Простые числа до 500"
   ]
  },
  {
   "cell_type": "code",
   "execution_count": 15,
   "metadata": {},
   "outputs": [
    {
     "name": "stdout",
     "output_type": "stream",
     "text": [
      "2 3 5 7 11 13 17 19 23 29 31 37 41 43 47 53 59 61 67 71 73 79 83 89 97 101 103 107 109 113 127 131 137 139 149 151 157 163 167 173 179 181 191 193 197 199 211 223 227 229 233 239 241 251 257 263 269 271 277 281 283 293 307 311 313 317 331 337 347 349 353 359 367 373 379 383 389 397 401 409 419 421 431 433 439 443 449 457 461 463 467 479 487 491 499 "
     ]
    }
   ],
   "source": [
    "# Поиск простых чисел до 500\n",
    "for num in range(2, 501):\n",
    "    is_prime = True\n",
    "\n",
    "    # Проверяем делится ли число на что-то кроме 1 и себя\n",
    "    for divisor in range(2, int(num**0.5) + 1):\n",
    "        if num % divisor == 0:\n",
    "            is_prime = False\n",
    "            break\n",
    "\n",
    "    # Если число простое - выводим его\n",
    "    if is_prime:\n",
    "        print(num, end=\" \")"
   ]
  },
  {
   "cell_type": "markdown",
   "metadata": {},
   "source": [
    "### 9. Числа, кратные 9, меньше 300"
   ]
  },
  {
   "cell_type": "code",
   "execution_count": 2,
   "metadata": {},
   "outputs": [
    {
     "name": "stdout",
     "output_type": "stream",
     "text": [
      "0 9 18 27 36 45 54 63 72 81 90 99 108 117 126 135 144 153 162 171 180 189 198 207 216 225 234 243 252 261 270 279 288 297 "
     ]
    }
   ],
   "source": [
    "for num in range(0, 300, 9):\n",
    "    print(num, end=\" \")"
   ]
  },
  {
   "cell_type": "markdown",
   "metadata": {},
   "source": [
    "### 10. Расчет минимального срока службы машины"
   ]
  },
  {
   "cell_type": "code",
   "execution_count": 1,
   "metadata": {},
   "outputs": [
    {
     "name": "stdout",
     "output_type": "stream",
     "text": [
      "Минимальный срок службы: 9 лет\n"
     ]
    }
   ],
   "source": [
    "purchase_price = 1000000\n",
    "annual_income = 200000\n",
    "final_value = 250000\n",
    "interest_rate = 0.08\n",
    "\n",
    "years = 1\n",
    "while True:\n",
    "    # Доход от машины\n",
    "    machine_income = annual_income * years + final_value - purchase_price\n",
    "\n",
    "    # Доход от альтернативных инвестиций\n",
    "    alternative_income = purchase_price * ((1 + interest_rate) ** years - 1)\n",
    "\n",
    "    if machine_income > alternative_income:\n",
    "        print(f\"Минимальный срок службы: {years} лет\")\n",
    "        break\n",
    "\n",
    "    years += 1"
   ]
  }
 ],
 "metadata": {
  "kernelspec": {
   "display_name": "base",
   "language": "python",
   "name": "python3"
  },
  "language_info": {
   "codemirror_mode": {
    "name": "ipython",
    "version": 3
   },
   "file_extension": ".py",
   "mimetype": "text/x-python",
   "name": "python",
   "nbconvert_exporter": "python",
   "pygments_lexer": "ipython3",
   "version": "3.12.4"
  }
 },
 "nbformat": 4,
 "nbformat_minor": 2
}
