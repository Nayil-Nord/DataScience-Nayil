{
 "cells": [
  {
   "cell_type": "code",
   "execution_count": null,
   "metadata": {},
   "outputs": [],
   "source": [
    "\"\"\"Глава 7. Рисунки из символов с помощью циклов и функций.\"\"\""
   ]
  },
  {
   "cell_type": "markdown",
   "metadata": {},
   "source": [
    "# Глава 7. Рисунки из символов с помощью циклов и функций\n",
    "\n",
    "## 7.1. Рисунки с помощью символа * (звездочка)\n",
    "\n",
    "### 7.1.1. Прямоугольный треугольник\n",
    "\n",
    "- Создание треугольника, где количество звездочек равно номеру строки\n",
    "- Использование вложенных циклов\n",
    "- Применение функций для повторного использования кода"
   ]
  },
  {
   "cell_type": "code",
   "execution_count": null,
   "metadata": {},
   "outputs": [
    {
     "name": "stdout",
     "output_type": "stream",
     "text": [
      "* \n",
      "* * \n",
      "* * * \n",
      "* * * * \n"
     ]
    }
   ],
   "source": [
    "# 7.1.1. Прямоугольный треугольник\n",
    "\n",
    "\n",
    "def pattern_t(height: int) -> None:\n",
    "    \"\"\"Создаёт прямоугольный треугольник из звездочек.\n",
    "\n",
    "    Args:\n",
    "        height: Количество строк для печати\n",
    "    \"\"\"\n",
    "    for row_idx in range(height):\n",
    "        print(\"* \" * (row_idx + 1))\n",
    "\n",
    "\n",
    "# Результат:\n",
    "# *\n",
    "# * *\n",
    "# * * *\n",
    "# * * * *\n",
    "pattern_t(4)"
   ]
  },
  {
   "cell_type": "markdown",
   "metadata": {},
   "source": [
    "### 7.1.2. Перевернутый прямоугольный треугольник\n",
    "\n",
    "- Создание перевернутого треугольника\n",
    "- Управление отступами\n",
    "- Обратный порядок вывода"
   ]
  },
  {
   "cell_type": "code",
   "execution_count": 39,
   "metadata": {},
   "outputs": [
    {
     "name": "stdout",
     "output_type": "stream",
     "text": [
      "      * \n",
      "    * * \n",
      "  * * * \n",
      "* * * * \n"
     ]
    }
   ],
   "source": [
    "# 7.1.2. Перевернутый прямоугольный треугольник\n",
    "\n",
    "\n",
    "def pattern_t_inverse(height: int) -> None:\n",
    "    \"\"\"Создаёт перевернутый прямоугольный треугольник.\n",
    "\n",
    "    Args:\n",
    "        height: Количество строк для печати\n",
    "    \"\"\"\n",
    "    indent_size = (height - 1) * 2\n",
    "    for row_idx in range(height):\n",
    "        stars = \"* \" * (row_idx + 1)\n",
    "        print(\" \" * indent_size + stars)\n",
    "        indent_size -= 2\n",
    "\n",
    "\n",
    "# Результат:\n",
    "#       *\n",
    "#     * *\n",
    "#   * * *\n",
    "# * * * *\n",
    "pattern_t_inverse(4)"
   ]
  },
  {
   "cell_type": "markdown",
   "metadata": {},
   "source": [
    "### 7.1.3. Равносторонний треугольник\n",
    "\n",
    "- Создание равностороннего треугольника\n",
    "- Расчет правильных отступов\n",
    "- Центрирование фигуры"
   ]
  },
  {
   "cell_type": "code",
   "execution_count": 40,
   "metadata": {},
   "outputs": [
    {
     "name": "stdout",
     "output_type": "stream",
     "text": [
      "   * \n",
      "  * * \n",
      " * * * \n",
      "* * * * \n"
     ]
    }
   ],
   "source": [
    "# 7.1.3. Равносторонний треугольник\n",
    "\n",
    "\n",
    "def pattern_rt(height: int) -> None:\n",
    "    \"\"\"Создаёт равносторонний треугольник.\n",
    "\n",
    "    Args:\n",
    "        height: Количество строк для печати\n",
    "    \"\"\"\n",
    "    indent_size = height - 1\n",
    "    for row_idx in range(height):\n",
    "        stars = \"* \" * (row_idx + 1)\n",
    "        print(\" \" * indent_size + stars)\n",
    "        indent_size -= 1\n",
    "\n",
    "\n",
    "# Результат:\n",
    "#    *\n",
    "#   * *\n",
    "#  * * *\n",
    "# * * * *\n",
    "pattern_rt(4)"
   ]
  },
  {
   "cell_type": "markdown",
   "metadata": {},
   "source": [
    "## 7.2. Рисунки с помощью цифр\n",
    "### 7.2.1. Прямоугольный треугольник"
   ]
  },
  {
   "cell_type": "code",
   "execution_count": null,
   "metadata": {},
   "outputs": [
    {
     "name": "stdout",
     "output_type": "stream",
     "text": [
      "\n",
      "7.2.1. Треугольник из повторяющихся цифр:\n",
      "1 \n",
      "2 2 \n",
      "3 3 3 \n",
      "4 4 4 4 \n"
     ]
    }
   ],
   "source": [
    "# 7.2.1. Треугольник из повторяющихся цифр\n",
    "\n",
    "\n",
    "def numpattern1(height: int) -> None:\n",
    "    \"\"\"Создаёт треугольник из повторяющихся цифр.\n",
    "\n",
    "    Args:\n",
    "        height: Количество строк для печати\n",
    "    \"\"\"\n",
    "    for row_num in range(1, height + 1):\n",
    "        print(f\"{row_num} \" * row_num)\n",
    "\n",
    "\n",
    "# Результат:\n",
    "# 1\n",
    "# 2 2\n",
    "# 3 3 3\n",
    "# 4 4 4 4\n",
    "numpattern1(4)"
   ]
  },
  {
   "cell_type": "markdown",
   "metadata": {},
   "source": [
    "### 7.2.2. Прямоугольный треугольник с последовательными числами"
   ]
  },
  {
   "cell_type": "code",
   "execution_count": 41,
   "metadata": {},
   "outputs": [
    {
     "name": "stdout",
     "output_type": "stream",
     "text": [
      "1\n",
      "1 2\n",
      "1 2 3\n",
      "1 2 3 4\n"
     ]
    }
   ],
   "source": [
    "# 7.2.2. Треугольник с последовательными числами\n",
    "\n",
    "\n",
    "def numpattern2(height: int) -> None:\n",
    "    \"\"\"Создаёт треугольник с последовательными числами.\n",
    "\n",
    "    Args:\n",
    "        height: Количество строк для печати\n",
    "    \"\"\"\n",
    "    for row_idx in range(1, height + 1):\n",
    "        numbers = \" \".join(str(num) for num in range(1, row_idx + 1))\n",
    "        print(numbers)\n",
    "\n",
    "\n",
    "# Результат:\n",
    "# 1\n",
    "# 1 2\n",
    "# 1 2 3\n",
    "# 1 2 3 4\n",
    "numpattern2(4)"
   ]
  },
  {
   "cell_type": "markdown",
   "metadata": {},
   "source": [
    "### 7.2.3. Треугольник с повторяющимися цифрами в обратном порядке"
   ]
  },
  {
   "cell_type": "code",
   "execution_count": 42,
   "metadata": {},
   "outputs": [
    {
     "name": "stdout",
     "output_type": "stream",
     "text": [
      "1 1 1 1 \n",
      "2 2 2 \n",
      "3 3 \n",
      "4 \n"
     ]
    }
   ],
   "source": [
    "# 7.2.3. Треугольник с повторяющимися цифрами в обратном порядке\n",
    "\n",
    "\n",
    "def numpattern3(height: int) -> None:\n",
    "    \"\"\"Создаёт треугольник с повторяющимися цифрами в обратном порядке.\n",
    "\n",
    "    Args:\n",
    "        height: Количество строк для печати\n",
    "    \"\"\"\n",
    "    current_num = 1\n",
    "    for row_size in range(height, 0, -1):\n",
    "        print(f\"{current_num} \" * row_size)\n",
    "        current_num += 1\n",
    "\n",
    "\n",
    "# Результат:\n",
    "# 1 1 1 1\n",
    "# 2 2 2\n",
    "# 3 3\n",
    "# 4\n",
    "numpattern3(4)"
   ]
  },
  {
   "cell_type": "markdown",
   "metadata": {},
   "source": [
    "### 7.2.4. Треугольник из обратных чисел"
   ]
  },
  {
   "cell_type": "code",
   "execution_count": 43,
   "metadata": {},
   "outputs": [
    {
     "name": "stdout",
     "output_type": "stream",
     "text": [
      "1\n",
      "2 1\n",
      "3 2 1\n",
      "4 3 2 1\n"
     ]
    }
   ],
   "source": [
    "# 7.2.4. Треугольник из обратных чисел\n",
    "\n",
    "\n",
    "def numpattern4(height: int) -> None:\n",
    "    \"\"\"Создаёт треугольник с убывающими числами в строках.\n",
    "\n",
    "    Args:\n",
    "        height: Количество строк для печати\n",
    "    \"\"\"\n",
    "    for row_idx in range(1, height + 1):\n",
    "        numbers = \" \".join(str(num) for num in range(row_idx, 0, -1))\n",
    "        print(numbers)\n",
    "\n",
    "\n",
    "# Результат:\n",
    "# 1\n",
    "# 2 1\n",
    "# 3 2 1\n",
    "# 4 3 2 1\n",
    "numpattern4(4)"
   ]
  },
  {
   "cell_type": "markdown",
   "metadata": {},
   "source": [
    "### 7.2.5. Треугольник из квадратов обратных чисел"
   ]
  },
  {
   "cell_type": "code",
   "execution_count": 44,
   "metadata": {},
   "outputs": [
    {
     "name": "stdout",
     "output_type": "stream",
     "text": [
      "1\n",
      "4 1\n",
      "9 4 1\n",
      "16 9 4 1\n"
     ]
    }
   ],
   "source": [
    "# 7.2.5. Треугольник из квадратов обратных чисел\n",
    "\n",
    "\n",
    "def numpattern5(height: int) -> None:\n",
    "    \"\"\"Создаёт треугольник из квадратов чисел в обратном порядке.\n",
    "\n",
    "    Args:\n",
    "        height: Количество строк для печати\n",
    "    \"\"\"\n",
    "    for row_idx in range(1, height + 1):\n",
    "        squares = \" \".join(str(num**2) for num in range(row_idx, 0, -1))\n",
    "        print(squares)\n",
    "\n",
    "\n",
    "# Результат:\n",
    "# 1\n",
    "# 4 1\n",
    "# 9 4 1\n",
    "# 16 9 4 1\n",
    "numpattern5(4)"
   ]
  },
  {
   "cell_type": "markdown",
   "metadata": {},
   "source": [
    "### 7.2.6. Ромб из чисел"
   ]
  },
  {
   "cell_type": "code",
   "execution_count": 45,
   "metadata": {},
   "outputs": [
    {
     "name": "stdout",
     "output_type": "stream",
     "text": [
      "   1 \n",
      "  2 2 \n",
      " 3 3 3 \n",
      "4 4 4 4 \n",
      " 3 3 3 \n",
      "  2 2 \n",
      "   1 \n"
     ]
    }
   ],
   "source": [
    "# 7.2.6. Ромб из чисел\n",
    "\n",
    "\n",
    "def numpattern6(height: int) -> None:\n",
    "    \"\"\"Создаёт ромб из чисел.\n",
    "\n",
    "    Args:\n",
    "        height: Количество строк для печати\n",
    "    \"\"\"\n",
    "    # Верхняя часть\n",
    "    for row_num in range(1, height + 1):\n",
    "        spaces = \" \" * (height - row_num)\n",
    "        numbers = f\"{row_num} \" * row_num\n",
    "        print(spaces + numbers)\n",
    "\n",
    "    # Нижняя часть\n",
    "    for row_num in range(height - 1, 0, -1):\n",
    "        spaces = \" \" * (height - row_num)\n",
    "        numbers = f\"{row_num} \" * row_num\n",
    "        print(spaces + numbers)\n",
    "\n",
    "\n",
    "# Результат:\n",
    "#    1\n",
    "#   2 2\n",
    "#  3 3 3\n",
    "# 4 4 4 4\n",
    "#  3 3 3\n",
    "#   2 2\n",
    "#    1\n",
    "numpattern6(4)"
   ]
  },
  {
   "cell_type": "markdown",
   "metadata": {},
   "source": [
    "## 7.3. Резюме\n",
    "\n",
    "- Научились создавать различные узоры с помощью циклов\n",
    "- Изучили работу с отступами для формирования фигур\n",
    "- Познакомились с функциями для повторного использования кода\n",
    "- Рассмотрели варианты узоров из символов и цифр\n",
    "- Научились создавать базовые геометрические фигуры"
   ]
  }
 ],
 "metadata": {
  "kernelspec": {
   "display_name": "base",
   "language": "python",
   "name": "python3"
  },
  "language_info": {
   "codemirror_mode": {
    "name": "ipython",
    "version": 3
   },
   "file_extension": ".py",
   "mimetype": "text/x-python",
   "name": "python",
   "nbconvert_exporter": "python",
   "pygments_lexer": "ipython3",
   "version": "3.12.4"
  }
 },
 "nbformat": 4,
 "nbformat_minor": 2
}
